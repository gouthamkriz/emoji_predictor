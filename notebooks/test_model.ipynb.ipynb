{
 "cells": [
  {
   "cell_type": "code",
   "execution_count": 2,
   "id": "ee597337-d999-45db-b1f9-e59983d06ebe",
   "metadata": {},
   "outputs": [
    {
     "name": "stdout",
     "output_type": "stream",
     "text": [
      "✅ Model loaded successfully!\n"
     ]
    },
    {
     "name": "stdin",
     "output_type": "stream",
     "text": [
      "Enter a message (or type 'exit' to quit):  exit\n"
     ]
    },
    {
     "name": "stdout",
     "output_type": "stream",
     "text": [
      "👋 Exiting the emoji predictor. Have a great day!\n"
     ]
    }
   ],
   "source": [
    "# Step 1: Import necessary libraries\n",
    "import joblib  # To load the saved model\n",
    "import emoji   # For emoji rendering (optional)\n",
    "from IPython.display import display, Markdown\n",
    "\n",
    "# Step 2: Load the trained emoji model\n",
    "try:\n",
    "    model = joblib.load('../emoji_model.pkl')\n",
    "    print(\"✅ Model loaded successfully!\")\n",
    "except FileNotFoundError:\n",
    "    print(\"❌ Model file not found. Please train and save the model as 'emoji_model.pkl' first.\")\n",
    "    raise\n",
    "\n",
    "# Step 3: Define a prediction function\n",
    "def predict_emoji(text):\n",
    "    \"\"\"\n",
    "    Predicts the emoji for a given sentence and displays it nicely.\n",
    "    \"\"\"\n",
    "    prediction = model.predict([text])[0]\n",
    "    display(Markdown(f\"### Input: `{text}`\\n### Predicted Emoji: **{prediction}** {emoji.emojize(prediction, language='alias')}\"))\n",
    "\n",
    "# Step 4: Try some example predictions\n",
    "# Uncomment below to test examples\n",
    "# predict_emoji(\"I'm so happy today!\")\n",
    "# predict_emoji(\"Feeling very sick\")\n",
    "# predict_emoji(\"It's time to celebrate!\")\n",
    "\n",
    "# Step 5: Interactive input loop\n",
    "while True:\n",
    "    user_input = input(\"Enter a message (or type 'exit' to quit): \")\n",
    "    if user_input.lower() == 'exit':\n",
    "        print(\"👋 Exiting the emoji predictor. Have a great day!\")\n",
    "        break\n",
    "    predict_emoji(user_input)\n"
   ]
  },
  {
   "cell_type": "code",
   "execution_count": null,
   "id": "2f2081b0-b160-45b4-81a0-1f0b4ba9f9a0",
   "metadata": {},
   "outputs": [],
   "source": []
  }
 ],
 "metadata": {
  "kernelspec": {
   "display_name": "Python 3 (ipykernel)",
   "language": "python",
   "name": "python3"
  },
  "language_info": {
   "codemirror_mode": {
    "name": "ipython",
    "version": 3
   },
   "file_extension": ".py",
   "mimetype": "text/x-python",
   "name": "python",
   "nbconvert_exporter": "python",
   "pygments_lexer": "ipython3",
   "version": "3.11.0"
  }
 },
 "nbformat": 4,
 "nbformat_minor": 5
}
